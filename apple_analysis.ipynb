{
 "cells": [
  {
   "cell_type": "code",
   "execution_count": 0,
   "metadata": {
    "application/vnd.databricks.v1+cell": {
     "cellMetadata": {
      "byteLimit": 2048000,
      "rowLimit": 10000
     },
     "inputWidgets": {},
     "nuid": "d9dbedea-03a8-4ef7-8bd3-a00742c5db70",
     "showTitle": false,
     "tableResultSettingsMap": {},
     "title": ""
    }
   },
   "outputs": [],
   "source": [
    "%run \"./reader_factory\""
   ]
  },
  {
   "cell_type": "code",
   "execution_count": 0,
   "metadata": {
    "application/vnd.databricks.v1+cell": {
     "cellMetadata": {
      "byteLimit": 2048000,
      "rowLimit": 10000
     },
     "inputWidgets": {},
     "nuid": "5252eda6-46f1-468c-a776-96ee0ec7d5fe",
     "showTitle": false,
     "tableResultSettingsMap": {},
     "title": ""
    }
   },
   "outputs": [],
   "source": [
    "%run \"./transform\""
   ]
  },
  {
   "cell_type": "code",
   "execution_count": 0,
   "metadata": {
    "application/vnd.databricks.v1+cell": {
     "cellMetadata": {
      "byteLimit": 2048000,
      "rowLimit": 10000
     },
     "inputWidgets": {},
     "nuid": "654cebe2-9479-4f4b-8bde-dd9474e43ace",
     "showTitle": false,
     "tableResultSettingsMap": {},
     "title": ""
    }
   },
   "outputs": [
    {
     "output_type": "stream",
     "name": "stdout",
     "output_type": "stream",
     "text": [
      "+--------------+-----------+------------+----------------+\n|transaction_id|customer_id|product_name|transaction_date|\n+--------------+-----------+------------+----------------+\n|            11|        105|      iPhone|      2022-02-01|\n|            14|        105|     AirPods|      2022-02-04|\n|            18|        105|     MacBook|      2022-02-08|\n|            12|        106|      iPhone|      2022-02-02|\n|            16|        106|     MacBook|      2022-02-06|\n|            20|        106|     AirPods|      2022-02-10|\n|            13|        107|     AirPods|      2022-02-03|\n|            17|        107|      iPhone|      2022-02-07|\n|            15|        108|      iPhone|      2022-02-05|\n|            19|        108|     AirPods|      2022-02-09|\n+--------------+-----------+------------+----------------+\n\n+-----------+-------------+-------------------+--------+\n|customer_id|customer_name|          join_date|location|\n+-----------+-------------+-------------------+--------+\n|        105|          Eva|2022-01-01 00:00:00|    Ohio|\n|        106|        Frank|2022-02-01 00:00:00|  Nevada|\n|        107|        Grace|2022-03-01 00:00:00|Colorado|\n|        108|        Henry|2022-04-01 00:00:00|    Utah|\n+-----------+-------------+-------------------+--------+\n\ntransactionInputDF in transform\n+--------------+-----------+------------+----------------+\n|transaction_id|customer_id|product_name|transaction_date|\n+--------------+-----------+------------+----------------+\n|            11|        105|      iPhone|      2022-02-01|\n|            12|        106|      iPhone|      2022-02-02|\n|            13|        107|     AirPods|      2022-02-03|\n|            14|        105|     AirPods|      2022-02-04|\n|            15|        108|      iPhone|      2022-02-05|\n|            16|        106|     MacBook|      2022-02-06|\n|            17|        107|      iPhone|      2022-02-07|\n|            18|        105|     MacBook|      2022-02-08|\n|            19|        108|     AirPods|      2022-02-09|\n|            20|        106|     AirPods|      2022-02-10|\n+--------------+-----------+------------+----------------+\n\nUnexpected exception formatting exception. Falling back to standard exception\n"
     ]
    },
    {
     "output_type": "stream",
     "name": "stderr",
     "output_type": "stream",
     "text": [
      "Traceback (most recent call last):\n  File \"/databricks/python/lib/python3.9/site-packages/IPython/core/interactiveshell.py\", line 3378, in run_code\n    exec(code_obj, self.user_global_ns, self.user_ns)\n  File \"<command-3339262897754091>\", line 31, in <module>\n    workFlow = WorkFlow().runner()\n  File \"<command-3339262897754091>\", line 27, in runner\n    firstTransform = FirstTransformer().transform(\n  File \"<command-656553193579516>\", line 22, in transform\n    \"next_product_name\", lead(\"product_name\").over(\"windowSpec\")\n  File \"/databricks/spark/python/pyspark/instrumentation_utils.py\", line 48, in wrapper\n    res = func(*args, **kwargs)\n  File \"/databricks/spark/python/pyspark/sql/column.py\", line 1290, in over\n    raise TypeError(\"window should be WindowSpec\")\nTypeError: window should be WindowSpec\n\nDuring handling of the above exception, another exception occurred:\n\nTraceback (most recent call last):\n  File \"/databricks/python/lib/python3.9/site-packages/IPython/core/interactiveshell.py\", line 1997, in showtraceback\n    stb = self.InteractiveTB.structured_traceback(\n  File \"/databricks/python/lib/python3.9/site-packages/IPython/core/ultratb.py\", line 1112, in structured_traceback\n    return FormattedTB.structured_traceback(\n  File \"/databricks/python/lib/python3.9/site-packages/IPython/core/ultratb.py\", line 1006, in structured_traceback\n    return VerboseTB.structured_traceback(\n  File \"/databricks/python/lib/python3.9/site-packages/IPython/core/ultratb.py\", line 859, in structured_traceback\n    formatted_exception = self.format_exception_as_a_whole(etype, evalue, etb, number_of_lines_of_context,\n  File \"/databricks/python/lib/python3.9/site-packages/IPython/core/ultratb.py\", line 812, in format_exception_as_a_whole\n    frames.append(self.format_record(r))\n  File \"/databricks/python/lib/python3.9/site-packages/IPython/core/ultratb.py\", line 730, in format_record\n    result += ''.join(_format_traceback_lines(frame_info.lines, Colors, self.has_colors, lvals))\n  File \"/databricks/python/lib/python3.9/site-packages/stack_data/utils.py\", line 145, in cached_property_wrapper\n    value = obj.__dict__[self.func.__name__] = self.func(obj)\n  File \"/databricks/python/lib/python3.9/site-packages/stack_data/core.py\", line 698, in lines\n    pieces = self.included_pieces\n  File \"/databricks/python/lib/python3.9/site-packages/stack_data/utils.py\", line 145, in cached_property_wrapper\n    value = obj.__dict__[self.func.__name__] = self.func(obj)\n  File \"/databricks/python/lib/python3.9/site-packages/stack_data/core.py\", line 649, in included_pieces\n    pos = scope_pieces.index(self.executing_piece)\n  File \"/databricks/python/lib/python3.9/site-packages/stack_data/utils.py\", line 145, in cached_property_wrapper\n    value = obj.__dict__[self.func.__name__] = self.func(obj)\n  File \"/databricks/python/lib/python3.9/site-packages/stack_data/core.py\", line 628, in executing_piece\n    return only(\n  File \"/databricks/python/lib/python3.9/site-packages/executing/executing.py\", line 164, in only\n    raise NotOneValueFound('Expected one value, found 0')\nexecuting.executing.NotOneValueFound: Expected one value, found 0\n"
     ]
    },
    {
     "output_type": "display_data",
     "data": {
      "text/plain": [
       ""
      ]
     },
     "metadata": {
      "application/vnd.databricks.v1+output": {
       "arguments": {},
       "data": "",
       "errorSummary": "<span class='ansi-red-fg'>TypeError</span>: window should be WindowSpec",
       "errorTraceType": "ansi",
       "metadata": {},
       "type": "ipynbError"
      }
     },
     "output_type": "display_data"
    }
   ],
   "source": [
    "class WorkFlow:\n",
    "    def __init__(self):\n",
    "        pass\n",
    "\n",
    "    def runner(self):\n",
    "        transactionInputDF = get_data_source(\n",
    "            data_type=\"csv\",\n",
    "            file_path=\"dbfs:/FileStore/tables/Transaction_Updated.csv\"\n",
    "        ).get_dataframe()\n",
    "\n",
    "        transactionInputDF.orderBy(\"customer_id\",\"transaction_date\").show()\n",
    "\n",
    "        customerInputDF = get_data_source(\n",
    "            data_type=\"delta\",\n",
    "            file_path=\"default.customer_delta_table\"\n",
    "        ).get_dataframe()\n",
    "\n",
    "        customerInputDF.show()\n",
    "\n",
    "\n",
    "        inputDF = {\n",
    "            \"transactionInputDF\":transactionInputDF,\n",
    "            \"customerInputDF\": customerInputDF\n",
    "        }\n",
    "\n",
    "        # Customers who have bought Airpods after buying the iPhone\n",
    "        firstTransform = FirstTransformer().transform(\n",
    "            inputDF\n",
    "        )\n",
    "\n",
    "workFlow = WorkFlow().runner()"
   ]
  },
  {
   "cell_type": "code",
   "execution_count": 0,
   "metadata": {
    "application/vnd.databricks.v1+cell": {
     "cellMetadata": {
      "byteLimit": 2048000,
      "rowLimit": 10000
     },
     "inputWidgets": {},
     "nuid": "41e70164-e4e6-4271-8511-8a7c7c76569d",
     "showTitle": false,
     "tableResultSettingsMap": {},
     "title": ""
    }
   },
   "outputs": [
    {
     "output_type": "stream",
     "name": "stdout",
     "output_type": "stream",
     "text": [
      "+--------------+-----------+------------+----------------+\n|transaction_id|customer_id|product_name|transaction_date|\n+--------------+-----------+------------+----------------+\n|            11|        105|      iPhone|      2022-02-01|\n|            12|        106|      iPhone|      2022-02-02|\n|            13|        107|     AirPods|      2022-02-03|\n|            14|        105|     AirPods|      2022-02-04|\n|            15|        108|      iPhone|      2022-02-05|\n|            16|        106|     MacBook|      2022-02-06|\n|            17|        107|      iPhone|      2022-02-07|\n|            18|        105|     MacBook|      2022-02-08|\n|            19|        108|     AirPods|      2022-02-09|\n|            20|        106|     AirPods|      2022-02-10|\n+--------------+-----------+------------+----------------+\n\n"
     ]
    }
   ],
   "source": [
    "from pyspark.sql import SparkSession\n",
    "\n",
    "session = SparkSession.builder.appName(\"TD Data Pipeline\").getOrCreate()\n",
    "\n",
    "input_df = spark.read.csv(\"dbfs:/FileStore/tables/Transaction_Updated.csv\", header=True)\n",
    "\n",
    "input_df.show()"
   ]
  }
 ],
 "metadata": {
  "application/vnd.databricks.v1+notebook": {
   "dashboards": [],
   "environmentMetadata": null,
   "language": "python",
   "notebookMetadata": {
    "pythonIndentUnit": 4
   },
   "notebookName": "apple_analysis",
   "widgets": {}
  }
 },
 "nbformat": 4,
 "nbformat_minor": 0
}
