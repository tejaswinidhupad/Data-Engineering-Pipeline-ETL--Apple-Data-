{
 "cells": [
  {
   "cell_type": "code",
   "execution_count": 0,
   "metadata": {
    "application/vnd.databricks.v1+cell": {
     "cellMetadata": {
      "byteLimit": 2048000,
      "rowLimit": 10000
     },
     "inputWidgets": {},
     "nuid": "9c76818b-64d7-46af-b96a-c771611451f6",
     "showTitle": false,
     "tableResultSettingsMap": {},
     "title": ""
    }
   },
   "outputs": [],
   "source": [
    "\n",
    "from pyspark.sql.window import Window\n",
    "from pyspark.sql.functions import lead, col, broadcast\n",
    "\n",
    "class Transformer:\n",
    "    def __init__(self):\n",
    "        pass\n",
    "\n",
    "    def transform(self, inputDF):\n",
    "        pass\n",
    "\n",
    "class FirstTransformer(Transformer):\n",
    "\n",
    "    def transform(self, inputDF):\n",
    "        \"\"\"\n",
    "        Customers who have bought Airpods after buying the iPhone\n",
    "        \"\"\"\n",
    "        transactionInputDF = inputDF.get(\"transactionInputDF\")\n",
    "        print(\"transactionInputDF in transform\")\n",
    "        transactionInputDF.show()\n",
    "        windowSpec = Window.partitionBy(\"customer_id\").orderBy(\"transaction_date\")\n",
    "        transformedDF = transactionInputDF.withColumn(\n",
    "            \"next_product_name\", lead(\"product_name\").over(\"windowSpec\")\n",
    "        )\n",
    "\n",
    "\n",
    "        print(\"Airpods after buying iPhone\")\n",
    "        transformedDF.orderBy(\"customer_id\",\"transaction_date\",\"product_name\").show()\n",
    "\n",
    "        filteredDF = transformedDF.filter(\n",
    "            (col(\"product_name\") == \"iPhone\") & (col(\"next_product_name\") == \"Airpods\")\n",
    "            )\n",
    "        \n",
    "        filteredDF.orderBy(\"customer_id\",\"transaction_date\",\"product_name\").show()\n",
    "\n",
    "        customerInputDF = inputDF.get(\"customerInputDF\")\n",
    "\n",
    "        customerInputDF.show()\n",
    "\n",
    "        joinDF = customerInputDF.join(\n",
    "            broadcast(filteredDF),\n",
    "            \"customer_id\"\n",
    "        )\n",
    "\n",
    "        print(\"Joined DF\")\n",
    "        joinDF.show()\n",
    "\n",
    "        return joinDF.select(\n",
    "            \"customer_id\",\n",
    "            \"customer_name\",\n",
    "            \"location\"\n",
    "        )"
   ]
  }
 ],
 "metadata": {
  "application/vnd.databricks.v1+notebook": {
   "dashboards": [],
   "environmentMetadata": null,
   "language": "python",
   "notebookMetadata": {
    "pythonIndentUnit": 4
   },
   "notebookName": "transform",
   "widgets": {}
  }
 },
 "nbformat": 4,
 "nbformat_minor": 0
}
